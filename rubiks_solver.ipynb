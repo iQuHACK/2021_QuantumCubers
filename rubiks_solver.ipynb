{
  "nbformat": 4,
  "nbformat_minor": 0,
  "metadata": {
    "colab": {
      "name": "rubiks_solver.ipynb",
      "provenance": [],
      "collapsed_sections": []
    },
    "kernelspec": {
      "display_name": "Python 3",
      "name": "python3"
    }
  },
  "cells": [
    {
      "cell_type": "code",
      "metadata": {
        "id": "jZt1AsWKlIQF"
      },
      "source": [
        "%%capture\r\n",
        "!pip install qiskit\r\n",
        "!pip install qiskit_aer_gpu\r\n",
        "!pip install qiskit_ionq_provider-0.0.1.dev0+45bd6b1-py3-none-any.whl"
      ],
      "execution_count": null,
      "outputs": []
    },
    {
      "cell_type": "code",
      "metadata": {
        "id": "KbMEfPatqeu3"
      },
      "source": [
        "#initialization\r\n",
        "import matplotlib.pyplot as plt\r\n",
        "from matplotlib.patches import ConnectionPatch, Rectangle\r\n",
        "import numpy as np\r\n",
        "import copy\r\n",
        "\r\n",
        "# importing Qiskit\r\n",
        "from qiskit import IBMQ, Aer, QuantumCircuit, ClassicalRegister, QuantumRegister, execute\r\n",
        "from qiskit.providers.ibmq import least_busy\r\n",
        "from qiskit_ionq_provider import IonQProvider\r\n",
        "\r\n",
        "# import basic plot tools\r\n",
        "from qiskit.visualization import plot_histogram"
      ],
      "execution_count": null,
      "outputs": []
    },
    {
      "cell_type": "markdown",
      "metadata": {
        "id": "RxosPo_CLc0B"
      },
      "source": [
        "# Grover Search Quantum Gate Methods"
      ]
    },
    {
      "cell_type": "code",
      "metadata": {
        "id": "KJVz5SjnqvbG"
      },
      "source": [
        "def x_rotation(qc, move, control, target):\r\n",
        "  qc.x(move)\r\n",
        "  qc.toffoli(move, control, target)\r\n",
        "  qc.x(move)\r\n",
        "\r\n",
        "def y_rotation(qc, move, control, target):\r\n",
        "  qc.toffoli(move, control, target)\r\n",
        "\r\n",
        "def oracle(qc, m_qubits, c_qubits, output_qubit):\r\n",
        "  for i in range(len(m_qubits)):\r\n",
        "    x_rotation(qc, i, c_qubits[0], c_qubits[1])\r\n",
        "    qc.barrier()\r\n",
        "    y_rotation(qc, i, c_qubits[1], c_qubits[0])\r\n",
        "    qc.barrier()\r\n",
        "\r\n",
        "  qc.toffoli(c_qubits[0], c_qubits[1], output_qubit)\r\n",
        "  qc.barrier()\r\n",
        "\r\n",
        "  for i in range(len(m_qubits)-1,-1,-1):\r\n",
        "    y_rotation(qc, i, c_qubits[1], c_qubits[0])\r\n",
        "    qc.barrier()\r\n",
        "    x_rotation(qc, i, c_qubits[0], c_qubits[1])\r\n",
        "    qc.barrier()\r\n",
        "\r\n"
      ],
      "execution_count": null,
      "outputs": []
    },
    {
      "cell_type": "code",
      "metadata": {
        "id": "I8HDqviiwdUR"
      },
      "source": [
        "def diffuser(nqubits):\r\n",
        "    q = QuantumCircuit(nqubits)\r\n",
        "    # Apply transformation |s> -> |00..0> (H-gates)\r\n",
        "    for qubit in range(nqubits):\r\n",
        "        q.h(qubit)\r\n",
        "    # Apply transformation |00..0> -> |11..1> (X-gates)\r\n",
        "    for qubit in range(nqubits):\r\n",
        "        q.x(qubit)\r\n",
        "    # Do multi-controlled-Z gate\r\n",
        "    q.h(nqubits-1)\r\n",
        "    q.mct(list(range(nqubits-1)), nqubits-1)  # multi-controlled-toffoli\r\n",
        "    q.h(nqubits-1)\r\n",
        "    # Apply transformation |11..1> -> |00..0>\r\n",
        "    for qubit in range(nqubits):\r\n",
        "        q.x(qubit)\r\n",
        "    # Apply transformation |00..0> -> |s>\r\n",
        "    for qubit in range(nqubits):\r\n",
        "        q.h(qubit)\r\n",
        "\r\n",
        "    return q\r\n",
        "  "
      ],
      "execution_count": null,
      "outputs": []
    },
    {
      "cell_type": "code",
      "metadata": {
        "id": "hln6jg5yyB0L"
      },
      "source": [
        "def gen_cube_state(qc, c_qubits, cube_array): \r\n",
        "  # cube array is 2d array\r\n",
        "  # |a b| \r\n",
        "  # |c d| becomes [[a,b],[c,d]]\r\n",
        "  c0 = (cube_array[1][0] == cube_array[1][1]) # c == d\r\n",
        "  c1 = (cube_array[0][1] == cube_array[1][1]) # b == d\r\n",
        "\r\n",
        "  if c0:\r\n",
        "    qc.x(c_qubits[0])\r\n",
        "  if c1:\r\n",
        "    qc.x(c_qubits[1])\r\n",
        "\r\n"
      ],
      "execution_count": null,
      "outputs": []
    },
    {
      "cell_type": "code",
      "metadata": {
        "id": "okk1vRlu2FYL"
      },
      "source": [
        "def grover_iteration(qc, m_qubits, c_qubits, output_qubit):\r\n",
        "  oracle(qc, m_qubits, c_qubits, output_qubit)\r\n",
        "  qc.compose(diffuser(len(m_qubits)), m_qubits, inplace = True)\r\n",
        "  # diffuser(qc, m_qubits, c_qubits, output_qubit)\r\n",
        "  qc.barrier()"
      ],
      "execution_count": null,
      "outputs": []
    },
    {
      "cell_type": "markdown",
      "metadata": {
        "id": "sHsixV3-Lrwc"
      },
      "source": [
        "# Grover Search Rubik's Cube Simulation"
      ]
    },
    {
      "cell_type": "code",
      "metadata": {
        "id": "HHc9qIxsl-c7"
      },
      "source": [
        "num_moves = 4\r\n",
        "init_state = [[0,0],[1,1]]\r\n",
        "SIMULATOR_TYPE = 'Aer'\r\n",
        "\r\n",
        "if SIMULATOR_TYPE == 'Aer':\r\n",
        "  # Initialize registers and quantum circuit\r\n",
        "  m_qubits = QuantumRegister(num_moves, name = 'm')\r\n",
        "  c_qubits = QuantumRegister(2, name = 'c')\r\n",
        "  output_qubit = QuantumRegister(1, name = 'out')\r\n",
        "  classical_bits = ClassicalRegister(num_moves, name = 'cbits')\r\n",
        "  qc = QuantumCircuit(m_qubits, c_qubits, output_qubit, classical_bits)\r\n",
        "\r\n",
        "  # Initialize move sequence (m_qubits) to superposition\r\n",
        "  qc.h(m_qubits)\r\n",
        "\r\n",
        "  # Initialize cube state (c_qubits) \r\n",
        "  gen_cube_state(qc, c_qubits, init_state)\r\n",
        "\r\n",
        "  # Initialize output qubit to state |->\r\n",
        "  qc.x(output_qubit)\r\n",
        "  qc.h(output_qubit)\r\n",
        "  qc.barrier()\r\n",
        "\r\n",
        "  # Grover iteration\r\n",
        "  num_iterations = 1\r\n",
        "  for i in range(num_iterations):\r\n",
        "    grover_iteration(qc, m_qubits, c_qubits, output_qubit)\r\n",
        "\r\n",
        "\r\n",
        "  # Measure the move sequence qubits (m_qubits)\r\n",
        "  qc.measure(m_qubits, classical_bits)\r\n",
        "\r\n",
        "  qc.draw()\r\n",
        "\r\n",
        "elif SIMULATOR_TYPE == 'IonQ':\r\n",
        "  # Initialize registers and quantum circuit\r\n",
        "  qubits = QuantumRegister(num_moves+3, name = 'q')\r\n",
        "  m_qubits = [i for i in range (num_moves)]\r\n",
        "  c_qubits = [i for i in range (num_moves,num_moves+2)]\r\n",
        "  output_qubit = num_moves+2\r\n",
        "  classical_bits = ClassicalRegister(num_moves, name = 'cbits')\r\n",
        "  qc = QuantumCircuit(qubits, classical_bits)\r\n",
        "\r\n",
        "  # Initialize move sequence (m_qubits) to superposition\r\n",
        "  qc.h(m_qubits)\r\n",
        "\r\n",
        "  # Initialize cube state (c_qubits) \r\n",
        "  gen_cube_state(qc, c_qubits, [[1,1],[0,0]])\r\n",
        "\r\n",
        "  # Initialize output qubit to state |->\r\n",
        "  qc.x(output_qubit)\r\n",
        "  qc.h(output_qubit)\r\n",
        "  qc.barrier()\r\n",
        "\r\n",
        "  # Grover iteration\r\n",
        "  num_iterations = 1\r\n",
        "  for i in range(num_iterations):\r\n",
        "    grover_iteration(qc, m_qubits, c_qubits, output_qubit)\r\n",
        "\r\n",
        "\r\n",
        "  # Measure the move sequence qubits (m_qubits)\r\n",
        "  qc.measure(m_qubits, classical_bits)\r\n",
        "\r\n",
        "  qc.draw()"
      ],
      "execution_count": null,
      "outputs": []
    },
    {
      "cell_type": "code",
      "metadata": {
        "colab": {
          "base_uri": "https://localhost:8080/",
          "height": 511
        },
        "id": "cIAGKMcn4PoH",
        "outputId": "e2bacf0c-ae75-4196-8e02-bad68f4478ba"
      },
      "source": [
        "if SIMULATOR_TYPE == 'Aer':\r\n",
        "  # Simulate and plot results\r\n",
        "  qasm_simulator = Aer.get_backend('qasm_simulator')\r\n",
        "  result = execute(qc, backend = qasm_simulator, shots = 1000).result()\r\n",
        "\r\n",
        "elif SIMULATOR_TYPE == 'IonQ':\r\n",
        "  provider = IonQProvider(\"c2M3tED8CjcqwhNwOrwjIgBDJFPnCNcH\")\r\n",
        "  backend = provider.get_backend(\"ionq_simulator\")\r\n",
        "  job = backend.run(qc)\r\n",
        "  result = job.result()\r\n",
        "plot_histogram(result.get_counts(),figsize = (10,8))"
      ],
      "execution_count": null,
      "outputs": [
        {
          "output_type": "execute_result",
          "data": {
            "image/png": "[encoded data removed]",
            "text/plain": [
              "<Figure size 720x576 with 1 Axes>"
            ]
          },
          "metadata": {
            "tags": []
          },
          "execution_count": 8
        }
      ]
    },
    {
      "cell_type": "markdown",
      "metadata": {
        "id": "ZTFFk-dFL45m"
      },
      "source": [
        "# Calculate Success Probability"
      ]
    },
    {
      "cell_type": "code",
      "metadata": {
        "id": "IgCA1LAXVtT7"
      },
      "source": [
        "block_size= (64, 64)\n",
        "W = np.pad(np.ones(block_size), 1)\n",
        "B = np.pad(np.zeros(block_size)+0.69, 1)"
      ],
      "execution_count": null,
      "outputs": []
    },
    {
      "cell_type": "code",
      "metadata": {
        "id": "ys1tN7ljWnOD"
      },
      "source": [
        "def flip(color):\n",
        "  return B if (color == W).all() else W\n",
        "  \n",
        "def next_rubix_cube_state(state, move):\n",
        "  new_state = copy.deepcopy(state)\n",
        "  #state = [[W,B], [W,B]]\n",
        "  if int(move) == 0: #rotate x\n",
        "    new_state[1][0] = flip(state[1][1])\n",
        "    new_state[1][1] = flip(state[1][0])\n",
        "\n",
        "  elif int(move) == 1: #rotate y\n",
        "    new_state[0][1] = flip(state[1][1])\n",
        "\n",
        "    new_state[1][1] = flip(state[0][1])\n",
        "  return new_state\n",
        "\n",
        "\n",
        "def check_valid_state(state, moves):\n",
        "  for i, m in enumerate(moves, start=1):\n",
        "    state = next_rubix_cube_state(state, m)\n",
        "\n",
        "  return all([(state[0][0] == state[0][1]).all(), \n",
        "              (state[0][1] == state[1][1]).all(), \n",
        "              (state[1][1] == state[1][0]).all()])\n",
        "\n"
      ],
      "execution_count": null,
      "outputs": []
    },
    {
      "cell_type": "code",
      "metadata": {
        "id": "Xup9AhuGOFfH"
      },
      "source": [
        "def calc_prob_success(results_dic, init_state):\n",
        "  correct = 0\n",
        "  total = 0\n",
        "  for move_sequence, count in results_dic.items():\n",
        "    state = copy.deepcopy(init_state)\n",
        "    if check_valid_state(state, reversed(move_sequence)):\n",
        "      correct += count\n",
        "    total += count\n",
        "  print('Correct Probability: ', correct/total)\n",
        "  \n"
      ],
      "execution_count": null,
      "outputs": []
    },
    {
      "cell_type": "code",
      "metadata": {
        "colab": {
          "base_uri": "https://localhost:8080/"
        },
        "id": "KoFG5o3YPv6X",
        "outputId": "1a52846f-8c18-4a94-a028-441a597ae366"
      },
      "source": [
        "start_state = [[W if x == 1 else B for x in row] for row in init_state]\n",
        "calc_prob_success(result.get_counts(), start_state)"
      ],
      "execution_count": null,
      "outputs": [
        {
          "output_type": "stream",
          "text": [
            "Correct Probability:  0.955\n"
          ],
          "name": "stdout"
        }
      ]
    },
    {
      "cell_type": "markdown",
      "metadata": {
        "id": "2P9TdCEQM9Oz"
      },
      "source": [
        "# Visualization"
      ]
    },
    {
      "cell_type": "code",
      "metadata": {
        "id": "MJYX8Sv6eaV8"
      },
      "source": [
        "def plot_state(state, ax, caption=None):\n",
        "  ax.imshow(np.block(state), cmap='gray',  vmin=0,vmax=1)\n",
        "  \n",
        "  if caption:\n",
        "    ax.set_title(caption)\n",
        "  ax.axis('off')\n"
      ],
      "execution_count": null,
      "outputs": []
    },
    {
      "cell_type": "code",
      "metadata": {
        "id": "9FiIx1-5q3rg"
      },
      "source": [
        "def plot_rectangle(ax, move, len_of_moves):\n",
        "  if move == 0:\n",
        "    rect = Rectangle((0, block_size[0]+1), block_size[1]*2+3, block_size[0]+1, linewidth=5, linestyle='--', edgecolor='c',facecolor='none') \n",
        "\n",
        "  else:\n",
        "    rect = Rectangle((block_size[0]+1,0), block_size[0]+1, block_size[1]*2+3,linewidth=5, linestyle='--', edgecolor='c',facecolor='none') \n",
        "\n",
        "  ax.add_patch(rect)\n",
        "  hard_code_val = {2: 32, 3: 17, 4: 18, 5: 16, 6:15}\n",
        "  ax.text(\n",
        "    2*block_size[0]+ hard_code_val[len_of_moves], block_size[0]+1, \" \"*10, ha=\"center\", va=\"center\", size=10-len_of_moves,\n",
        "    bbox=dict(boxstyle=\"rarrow,pad=0.3\", fc=\"black\", ec=\"black\", lw=2))"
      ],
      "execution_count": null,
      "outputs": []
    },
    {
      "cell_type": "code",
      "metadata": {
        "id": "CAvSXCvobnrO"
      },
      "source": [
        "def print_rubix_cube_moves(state, seq_of_moves):\n",
        "  \n",
        "  fig, ax = plt.subplots(figsize=(20, 5), nrows=1, ncols=len(seq_of_moves) + 1)\n",
        "  plot_state(state, ax.flatten()[0], 'Inital State')\n",
        "  for i, m in enumerate(seq_of_moves, start=1):\n",
        "    ax_i = ax.flatten()[i]\n",
        "    prev_ax = ax.flatten()[i-1]\n",
        "    plot_rectangle(prev_ax, m, len(seq_of_moves))\n",
        "    \n",
        "    state = next_rubix_cube_state(state, m)\n",
        "    plot_state(state, ax_i, f'State {i}' if i != len(seq_of_moves) else f'Solved State')\n",
        "\n",
        "  "
      ],
      "execution_count": null,
      "outputs": []
    },
    {
      "cell_type": "code",
      "metadata": {
        "colab": {
          "base_uri": "https://localhost:8080/",
          "height": 239
        },
        "id": "BXwnJrFVdHTs",
        "outputId": "ada4dc9b-410f-407a-e0b2-df3bc5eada33"
      },
      "source": [
        "start_state = [[W if x == 1 else B for x in row] for row in init_state]\n",
        "moves = [1,0,0,0]\n",
        "print_rubix_cube_moves(start_state, moves)"
      ],
      "execution_count": null,
      "outputs": [
        {
          "output_type": "display_data",
          "data": {
            "image/png": "[encoded data removed]",
            "text/plain": [
              "<Figure size 1440x360 with 5 Axes>"
            ]
          },
          "metadata": {
            "tags": [],
            "needs_background": "light"
          }
        }
      ]
    }
  ]
}